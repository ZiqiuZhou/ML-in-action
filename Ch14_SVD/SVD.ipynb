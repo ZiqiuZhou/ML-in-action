{
 "cells": [
  {
   "cell_type": "code",
   "execution_count": 191,
   "metadata": {},
   "outputs": [],
   "source": [
    "import numpy as np\n",
    "import matplotlib.pyplot as plt"
   ]
  },
  {
   "cell_type": "code",
   "execution_count": 28,
   "metadata": {},
   "outputs": [],
   "source": [
    "def generateData(numUsers, numItems):\n",
    "    user_itemMat = np.random.randint(0, 5, [numUsers, numItems])\n",
    "    return user_itemMat"
   ]
  },
  {
   "cell_type": "code",
   "execution_count": 184,
   "metadata": {},
   "outputs": [],
   "source": [
    "def SVD(dataMat):\n",
    "    U, sigma, VT = np.linalg.svd(dataMat)\n",
    "    cumsum = np.cumsum(sigma**2)\n",
    "    mark = 0\n",
    "    for i in range(len(cumsum)):\n",
    "        # find out how mang sigular values/features/dimensions can get to 90% energy\n",
    "        if cumsum[i] / np.sum(sigma**2) > 0.9:\n",
    "            mark = i\n",
    "            break\n",
    "    return U, sigma, VT, i + 1\n",
    "\n",
    "# collaborative filtering\n",
    "def pearsSim(A, B):\n",
    "    return 0.5 + 0.5 * np.corrcoef(A, B, rowvar=True)[0, 1]  # 0.5 + 0.5 * Similarity : range from 0-1\n",
    "\n",
    "def standEst(dataMat, userIdx, itemIdx, threshold=3):\n",
    "    \"\"\"\n",
    "    Due to much larger amounts of users compared with number of items,\n",
    "    we use User-User collaborative filtering\n",
    "    \"\"\"\n",
    "    #numUsers, numItems = np.shape(dataMat)\n",
    "    userGroup = np.array(np.nonzero(dataMat[:, itemIdx])).T # find a user group who are also rated this item\n",
    "    similarities = []\n",
    "    for i in range(len(userGroup)):\n",
    "        similarities.append(pearsSim(dataMat[userIdx], dataMat[userGroup[i]]))\n",
    "    # sort the similarities by descending oder and pick the most similar users\n",
    "    sortedSim = np.sort(similarities)[::-1][:threshold] \n",
    "    sortedSim = np.reshape(sortedSim, (1, -1))\n",
    "    # find the user index corresponding to the most similairties\n",
    "    candidates = userGroup[np.argsort(similarities)[::-1][:threshold]]\n",
    "    # averaged weights to estimated the rate\n",
    "    estimateRate = (sortedSim.dot(dataMat[candidates, itemIdx])) / np.sum(sortedSim) \n",
    "    return float(estimateRate)\n",
    "\n",
    "def recommand(dataMat, estMethod， numRec=3):\n",
    "    numUsers, numItems = np.shape(dataMat)\n",
    "    recommandations = []\n",
    "    if estMehod = 'standEst':\n",
    "        for userIdx in range(numUsers):\n",
    "            estimateRates = []\n",
    "            recommandCandidates = []\n",
    "            recommandation = []\n",
    "            dictRecom = {}\n",
    "            for itemIdx in range(numItems):\n",
    "                if dataMat[userIdx, itemIdx] == 0:\n",
    "                    estimateRates.append(standEst(dataMat, userIdx, itemIdx, threshold=3))\n",
    "                    recommandCandidates.append(itemIdx)\n",
    "            estimateRates = np.array(estimateRates)\n",
    "            recommandCandidates = np.array(recommandCandidates)\n",
    "            # sort the estimated ratings and recommandation item index by descending order\n",
    "            recommandLists = np.sort(estimateRates)[::-1][:numRec] \n",
    "            recommandCandidates = recommandCandidates[np.argsort(estimateRates)[::-1][:numRec]]\n",
    "            if len(recommandLists) < numRec:\n",
    "                for i in range(len(recommandLists)):\n",
    "                    recommandation.append(tuple([int(recommandCandidates[i]), int(np.round(recommandLists[i]))]))\n",
    "            else:\n",
    "                for n in range(numRec):\n",
    "                    recommandation.append(tuple([int(recommandCandidates[n]), int(np.round(recommandLists[n]))]))\n",
    "            recommandations.append(recommandation)\n",
    "        return recommandations\n",
    "    if estMehod = 'svdEst':\n",
    "        U, sigma, VT, mark = SVD(dataMat)\n",
    "        sigma = np.array(np.eye(mark) * sigma[:mark])\n",
    "        reducedMat = U[:, :mark].dot(sigma)\n",
    "        "
   ]
  },
  {
   "cell_type": "code",
   "execution_count": 169,
   "metadata": {
    "scrolled": false
   },
   "outputs": [
    {
     "data": {
      "text/plain": [
       "[[(3, 2), (16, 2), (18, 2)],\n",
       " [(3, 2), (18, 1), (12, 1)],\n",
       " [(19, 3), (0, 2), (16, 2)],\n",
       " [(15, 2), (1, 2), (7, 1)],\n",
       " [(17, 2), (10, 1)],\n",
       " [(11, 1), (16, 1), (6, 1)],\n",
       " [(16, 2), (4, 2), (12, 2)],\n",
       " [(1, 2), (5, 2), (8, 2)],\n",
       " [(10, 3)],\n",
       " [(8, 2), (13, 2), (15, 2)],\n",
       " [(10, 2), (19, 2), (17, 2)],\n",
       " [(13, 3), (18, 2), (14, 2)],\n",
       " [(6, 2), (0, 2), (2, 2)],\n",
       " [(5, 2), (7, 2), (3, 2)],\n",
       " [(1, 2), (19, 2), (12, 1)],\n",
       " [(15, 3), (10, 2), (6, 1)],\n",
       " [(9, 3), (10, 2), (4, 2)],\n",
       " [(2, 3), (19, 2), (8, 2)],\n",
       " [(9, 2)],\n",
       " [(14, 2), (9, 2), (12, 1)],\n",
       " [(2, 2), (8, 2), (13, 2)],\n",
       " [(3, 3), (13, 3), (15, 2)],\n",
       " [(17, 2), (14, 2), (19, 1)],\n",
       " [(11, 2), (0, 1), (5, 1)],\n",
       " [(10, 3), (15, 2), (8, 2)],\n",
       " [(9, 2), (12, 2), (5, 2)],\n",
       " [(9, 2), (6, 2), (3, 1)],\n",
       " [(11, 3), (3, 3), (5, 2)],\n",
       " [(6, 2), (8, 1)],\n",
       " [],\n",
       " [(13, 2), (7, 2), (19, 2)],\n",
       " [(16, 2), (12, 1), (8, 1)],\n",
       " [(1, 2), (3, 2), (19, 2)],\n",
       " [(3, 1)],\n",
       " [(2, 3), (19, 2), (9, 2)],\n",
       " [(1, 2), (12, 2), (8, 1)],\n",
       " [],\n",
       " [(17, 2), (3, 2), (4, 2)],\n",
       " [(9, 2), (10, 1), (19, 1)],\n",
       " [(19, 2), (14, 2), (8, 1)],\n",
       " [(4, 2), (14, 2), (17, 2)],\n",
       " [(0, 1)],\n",
       " [(7, 1), (14, 1)],\n",
       " [(7, 2), (16, 1), (9, 1)],\n",
       " [(13, 2), (9, 2), (4, 1)],\n",
       " [(7, 2), (5, 1), (6, 1)],\n",
       " [(10, 3), (4, 2), (0, 2)],\n",
       " [(9, 3), (1, 2), (12, 2)],\n",
       " [(11, 2), (2, 2), (3, 2)],\n",
       " [(6, 3), (9, 3), (18, 2)],\n",
       " [(5, 2), (0, 2)],\n",
       " [(10, 3), (3, 2), (6, 1)],\n",
       " [(5, 2), (0, 2), (16, 1)],\n",
       " [(7, 2), (5, 2)],\n",
       " [(7, 3), (3, 1), (13, 1)],\n",
       " [(19, 2), (8, 2)],\n",
       " [(3, 2), (10, 2), (19, 2)],\n",
       " [(19, 2), (10, 1), (12, 1)],\n",
       " [(13, 2), (15, 2), (14, 2)],\n",
       " [(10, 2), (14, 2), (6, 2)],\n",
       " [(3, 3), (12, 2), (7, 2)],\n",
       " [(18, 3), (7, 2)],\n",
       " [(18, 2), (4, 1)],\n",
       " [(13, 3), (2, 2)],\n",
       " [(5, 2), (14, 2), (8, 2)],\n",
       " [(3, 2), (18, 2)],\n",
       " [(14, 2), (10, 2), (13, 2)],\n",
       " [(10, 2), (7, 2), (19, 1)],\n",
       " [(8, 2), (17, 2)],\n",
       " [(17, 3), (10, 2), (11, 1)],\n",
       " [(13, 3), (17, 2), (9, 1)],\n",
       " [(12, 3), (5, 2), (17, 2)],\n",
       " [(5, 2), (13, 2), (16, 1)],\n",
       " [],\n",
       " [(7, 3), (2, 2), (12, 2)],\n",
       " [(7, 2), (1, 2), (12, 2)],\n",
       " [(1, 2), (17, 2), (11, 2)],\n",
       " [(5, 2), (11, 2), (15, 2)],\n",
       " [(15, 3), (19, 2), (11, 1)],\n",
       " [],\n",
       " [(12, 3), (1, 2), (3, 1)],\n",
       " [(18, 2), (1, 2), (19, 1)],\n",
       " [(6, 2), (3, 1), (19, 1)],\n",
       " [(16, 3), (18, 3), (6, 2)],\n",
       " [(12, 3), (0, 3), (11, 2)],\n",
       " [(14, 3), (18, 3), (5, 2)],\n",
       " [(7, 2), (11, 2), (4, 1)],\n",
       " [(18, 3), (15, 2), (2, 2)],\n",
       " [(9, 2), (17, 2), (15, 2)],\n",
       " [(4, 2), (14, 2), (18, 1)],\n",
       " [(14, 2), (12, 2), (13, 1)],\n",
       " [(3, 2), (7, 1)],\n",
       " [(5, 2), (11, 2), (7, 2)],\n",
       " [(7, 2), (9, 2), (14, 2)],\n",
       " [(12, 3), (17, 3), (8, 2)],\n",
       " [(13, 3), (9, 1)],\n",
       " [(10, 2), (2, 2), (16, 2)],\n",
       " [(17, 2), (10, 1), (7, 1)],\n",
       " [(17, 2), (16, 1), (2, 1)],\n",
       " [(0, 2), (5, 2), (12, 2)],\n",
       " [(8, 2), (14, 1)],\n",
       " [(14, 2), (0, 2), (13, 2)],\n",
       " [(14, 2), (9, 1)],\n",
       " [(3, 2), (10, 2)],\n",
       " [(4, 3), (2, 2), (11, 2)],\n",
       " [(11, 2), (9, 2), (5, 2)],\n",
       " [(11, 2), (19, 2), (3, 2)],\n",
       " [(13, 2), (10, 2), (9, 1)],\n",
       " [(4, 3), (0, 2), (15, 2)],\n",
       " [(11, 3), (10, 2), (2, 2)],\n",
       " [(15, 2), (19, 2), (1, 2)],\n",
       " [(8, 2), (15, 2), (9, 2)],\n",
       " [(0, 3), (14, 2), (16, 2)],\n",
       " [(14, 2), (3, 2), (2, 1)],\n",
       " [(4, 2), (18, 1)],\n",
       " [(14, 3), (1, 2), (11, 2)],\n",
       " [(16, 2), (11, 2), (7, 1)],\n",
       " [(18, 1), (16, 1)],\n",
       " [(14, 3), (6, 2), (0, 2)],\n",
       " [(18, 3), (4, 2), (10, 1)],\n",
       " [(2, 2), (8, 2), (17, 2)],\n",
       " [(9, 2), (0, 2), (5, 2)],\n",
       " [(8, 3), (3, 3), (19, 2)],\n",
       " [(4, 3), (5, 2), (11, 2)],\n",
       " [(0, 3), (10, 1), (12, 1)],\n",
       " [(12, 3), (8, 2), (6, 2)],\n",
       " [(9, 2), (14, 2), (2, 2)],\n",
       " [(14, 2), (9, 2)],\n",
       " [(9, 1), (4, 1)],\n",
       " [(17, 1), (0, 1)],\n",
       " [(19, 2)],\n",
       " [(1, 3), (17, 2), (12, 2)],\n",
       " [(9, 2), (2, 2), (15, 2)],\n",
       " [(9, 2), (12, 1), (19, 1)],\n",
       " [(9, 2), (12, 2), (10, 2)],\n",
       " [(15, 2), (3, 2), (17, 2)],\n",
       " [(4, 2), (17, 2)],\n",
       " [(2, 2), (7, 2), (17, 2)],\n",
       " [(9, 1), (1, 1), (7, 1)],\n",
       " [(6, 2), (19, 2), (11, 1)],\n",
       " [(15, 2), (6, 1), (1, 1)],\n",
       " [(8, 2), (16, 2), (10, 2)],\n",
       " [(6, 2), (3, 2), (4, 2)],\n",
       " [(1, 2), (12, 2), (0, 2)],\n",
       " [(13, 2), (8, 2), (11, 2)],\n",
       " [(13, 2), (12, 2), (5, 2)],\n",
       " [(5, 2), (14, 2), (11, 2)],\n",
       " [(9, 2), (15, 2), (12, 2)],\n",
       " [(18, 1), (3, 1)],\n",
       " [(4, 2), (9, 2)],\n",
       " [(3, 1), (18, 1)],\n",
       " [(14, 2), (3, 2), (19, 1)],\n",
       " [(17, 2), (3, 1), (19, 1)],\n",
       " [(18, 3), (10, 2), (13, 1)],\n",
       " [(5, 2)],\n",
       " [(12, 2), (13, 2), (11, 2)],\n",
       " [(14, 3), (9, 2), (0, 2)],\n",
       " [(14, 2)],\n",
       " [(5, 2), (19, 1)],\n",
       " [(12, 3), (4, 2), (5, 1)],\n",
       " [(6, 1)],\n",
       " [],\n",
       " [(10, 2), (2, 1), (13, 1)],\n",
       " [(9, 2), (11, 2), (6, 1)],\n",
       " [(5, 2), (7, 2), (6, 1)],\n",
       " [(9, 4), (13, 2), (18, 1)],\n",
       " [(10, 1), (14, 1), (12, 1)],\n",
       " [(5, 2), (1, 2), (15, 1)],\n",
       " [(15, 2)],\n",
       " [(7, 1), (1, 1)],\n",
       " [(0, 3), (14, 2), (19, 2)],\n",
       " [(5, 3), (4, 2), (1, 1)],\n",
       " [(8, 2), (13, 1), (12, 1)],\n",
       " [(3, 2), (5, 2), (2, 1)],\n",
       " [(8, 2), (5, 2), (1, 2)],\n",
       " [(2, 2), (11, 2), (13, 2)],\n",
       " [(0, 2), (3, 2), (14, 1)],\n",
       " [(0, 2), (13, 2), (19, 1)],\n",
       " [(1, 2), (15, 2), (8, 2)],\n",
       " [(1, 3), (18, 1)],\n",
       " [(3, 2), (12, 2), (2, 2)],\n",
       " [(11, 2), (5, 1), (9, 1)],\n",
       " [(4, 2), (17, 2), (13, 1)],\n",
       " [(19, 3), (18, 3), (6, 2)],\n",
       " [(0, 3), (19, 2), (3, 2)],\n",
       " [(2, 3), (9, 2), (0, 2)],\n",
       " [(11, 3), (4, 3), (3, 2)],\n",
       " [(14, 1), (6, 1)],\n",
       " [(19, 2), (14, 2), (13, 2)],\n",
       " [(5, 2), (3, 2), (10, 1)],\n",
       " [(8, 3), (18, 2), (9, 1)],\n",
       " [(9, 2), (5, 2), (16, 2)],\n",
       " [(0, 3), (3, 2)],\n",
       " [(13, 2), (1, 2), (12, 1)],\n",
       " [(18, 2), (1, 1)],\n",
       " [(19, 3), (14, 2), (7, 2)],\n",
       " [(13, 2), (5, 1), (4, 1)],\n",
       " [(2, 2), (13, 2), (10, 1)],\n",
       " [(3, 3), (6, 2), (18, 1)],\n",
       " [(6, 3), (3, 2), (9, 1)]]"
      ]
     },
     "execution_count": 169,
     "metadata": {},
     "output_type": "execute_result"
    }
   ],
   "source": [
    "data = generateData(200, 20)\n",
    "recommandations = recommand(data, 'standEst')\n",
    "recommandations"
   ]
  },
  {
   "cell_type": "code",
   "execution_count": 178,
   "metadata": {},
   "outputs": [],
   "source": [
    "def loadExData2():\n",
    "    return[[0, 0, 0, 0, 0, 4, 0, 0, 0, 0, 5],\n",
    "           [0, 0, 0, 3, 0, 4, 0, 0, 0, 0, 3],\n",
    "           [0, 0, 0, 0, 4, 0, 0, 1, 0, 4, 0],\n",
    "           [3, 3, 4, 0, 0, 0, 0, 2, 2, 0, 0],\n",
    "           [5, 4, 5, 0, 0, 0, 0, 5, 5, 0, 0],\n",
    "           [0, 0, 0, 0, 5, 0, 1, 0, 0, 5, 0],\n",
    "           [4, 3, 4, 0, 0, 0, 0, 5, 5, 0, 1],\n",
    "           [0, 0, 0, 4, 0, 4, 0, 0, 0, 0, 4],\n",
    "           [0, 0, 0, 2, 0, 2, 5, 0, 0, 1, 2],\n",
    "           [0, 0, 0, 0, 5, 0, 0, 0, 0, 4, 0],\n",
    "           [1, 0, 0, 0, 0, 0, 0, 1, 2, 0, 0]]"
   ]
  },
  {
   "cell_type": "code",
   "execution_count": 185,
   "metadata": {},
   "outputs": [
    {
     "data": {
      "text/plain": [
       "3"
      ]
     },
     "execution_count": 185,
     "metadata": {},
     "output_type": "execute_result"
    }
   ],
   "source": [
    "datasets = loadExData2()\n",
    "U, sigma, VT, mark = SVD(datasets)\n",
    "mark"
   ]
  },
  {
   "cell_type": "markdown",
   "metadata": {},
   "source": [
    "# Image Compression"
   ]
  },
  {
   "cell_type": "code",
   "execution_count": 204,
   "metadata": {},
   "outputs": [],
   "source": [
    "def printMat(inMat, thresh=0.8):\n",
    "    for i in range(32):\n",
    "        for k in range(32):\n",
    "            if float(inMat[i,k]) > thresh:\n",
    "                print(1),\n",
    "            else: print(0),\n",
    "        print('')"
   ]
  },
  {
   "cell_type": "code",
   "execution_count": 205,
   "metadata": {},
   "outputs": [
    {
     "name": "stdout",
     "output_type": "stream",
     "text": [
      "****original matrix******\n"
     ]
    },
    {
     "data": {
      "text/plain": [
       "<matplotlib.image.AxesImage at 0x17f8afef860>"
      ]
     },
     "execution_count": 205,
     "metadata": {},
     "output_type": "execute_result"
    },
    {
     "data": {
      "image/png": "[encoded data removed]",
      "text/plain": [
       "<Figure size 432x288 with 1 Axes>"
      ]
     },
     "metadata": {
      "needs_background": "light"
     },
     "output_type": "display_data"
    }
   ],
   "source": [
    "myl = []\n",
    "for line in open('0_5.txt').readlines():\n",
    "    newRow = []\n",
    "    for i in range(32):\n",
    "        newRow.append(int(line[i]))\n",
    "    myl.append(newRow)\n",
    "myMat = np.mat(myl)\n",
    "print(\"****original matrix******\")\n",
    "plt.imshow(np.reshape(myl, (32, 32))*255)\n",
    "\n"
   ]
  },
  {
   "cell_type": "code",
   "execution_count": 206,
   "metadata": {},
   "outputs": [
    {
     "name": "stdout",
     "output_type": "stream",
     "text": [
      "****reconstructed matrix using 3 singular values******\n"
     ]
    },
    {
     "data": {
      "text/plain": [
       "<matplotlib.image.AxesImage at 0x17f8b04e7f0>"
      ]
     },
     "execution_count": 206,
     "metadata": {},
     "output_type": "execute_result"
    },
    {
     "data": {
      "image/png": "[encoded data removed]",
      "text/plain": [
       "<Figure size 432x288 with 1 Axes>"
      ]
     },
     "metadata": {
      "needs_background": "light"
     },
     "output_type": "display_data"
    }
   ],
   "source": [
    "U,Sigma,VT = np.linalg.svd(myMat)\n",
    "SigRecon = np.mat(np.zeros((3, 3)))\n",
    "for k in range(3):#construct diagonal matrix from vector\n",
    "    SigRecon[k,k] = Sigma[k]\n",
    "reconMat = U[:,:3].dot(SigRecon).dot(VT[:3,:])\n",
    "print(\"****reconstructed matrix using %d singular values******\" % 3)\n",
    "plt.imshow(np.reshape(reconMat, (32, 32))*255)"
   ]
  },
  {
   "cell_type": "code",
   "execution_count": null,
   "metadata": {},
   "outputs": [],
   "source": []
  }
 ],
 "metadata": {
  "kernelspec": {
   "display_name": "Python 3",
   "language": "python",
   "name": "python3"
  },
  "language_info": {
   "codemirror_mode": {
    "name": "ipython",
    "version": 3
   },
   "file_extension": ".py",
   "mimetype": "text/x-python",
   "name": "python",
   "nbconvert_exporter": "python",
   "pygments_lexer": "ipython3",
   "version": "3.6.7"
  }
 },
 "nbformat": 4,
 "nbformat_minor": 2
}
