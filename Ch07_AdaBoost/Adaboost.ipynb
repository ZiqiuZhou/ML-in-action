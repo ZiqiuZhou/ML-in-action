{
 "cells": [
  {
   "cell_type": "code",
   "execution_count": 132,
   "metadata": {},
   "outputs": [],
   "source": [
    "import numpy as np\n",
    "import matplotlib.pyplot as plt"
   ]
  },
  {
   "cell_type": "code",
   "execution_count": 140,
   "metadata": {},
   "outputs": [],
   "source": [
    "def loadSimpData():\n",
    "    datMat = np.array([[ 1. ,  2.1],\n",
    "        [ 2. ,  1.1],\n",
    "        [ 1.3,  1. ],\n",
    "        [ 1. ,  1. ],\n",
    "        [ 2 ,  1. ]])\n",
    "    classLabels = np.array([1, 1, -1, -1, 1])\n",
    "    return datMat,classLabels\n",
    "\n",
    "\n",
    "def loadDatasets(filename):\n",
    "    fr = open(filename)\n",
    "    lengthOfFeat = len(fr.readline().strip().split('\\t'))\n",
    "    datasets = []\n",
    "    labels = []\n",
    "    for line in fr.readlines():\n",
    "        array = np.array(line.strip().split('\\t'))\n",
    "        datasets.append(array[:lengthOfFeat - 1])\n",
    "        labels.append(float(array[-1]))\n",
    "        \n",
    "    n, p = np.shape(datasets)\n",
    "    dataMat = np.zeros((n, p))\n",
    "    for i in range(n):\n",
    "        for j in range(p):\n",
    "            dataMat[i][j] = float(datasets[i][j])\n",
    "    return dataMat, np.array(labels)\n",
    "\n",
    "\n",
    "def stumpClassify(dataMatrix,dimen,threshVal):#just classify the data\n",
    "    retArray = np.ones((np.shape(dataMatrix)[0]))\n",
    "    retArray[dataMatrix[:,dimen] <= threshVal] = -1.0\n",
    "    return retArray\n",
    "   \n",
    "    \n",
    "def buildStump(datasets, labels, D):\n",
    "    n, dimension = np.shape(datasets)\n",
    "    numStep = 10\n",
    "    minError = np.inf # initialize minimal error\n",
    "    bestClassifier = {'dimension': 0, 'threshold': 0}  # initialize the threshold\n",
    "    for dim in range(dimension):  # for each dimension's feature set\n",
    "        minData = np.min(datasets[:, dim])\n",
    "        maxData = np.max(datasets[:, dim])\n",
    "        stepSize = (maxData - minData) / numStep\n",
    "        for j in range(-1, numStep + 2):\n",
    "            errorArray = np.zeros(len(datasets))  # initialize error array for missclassification counting\n",
    "            threshold = minData + j * stepSize\n",
    "            labelArray = stumpClassify(datasets, dim, threshold)\n",
    "            errorArray[labels != labelArray] = 1  # count the number of missclassification data\n",
    "            error = np.sum(D * errorArray)\n",
    "            if error < minError:\n",
    "                minError = error\n",
    "                classEst = labelArray\n",
    "                bestClassifier['dimension'] = dim\n",
    "                bestClassifier['threshold'] = threshold     \n",
    "    return bestClassifier, classEst, minError\n",
    "\n",
    "\n",
    "def adaBoostModel(datasets, labels, iteNum):\n",
    "    n, p = np.shape(datasets)  # n: number of instances, p: dimension for each instance\n",
    "    D = np.ones(n) / n  # initialize the weights array for each instance\n",
    "    classEstimate = np.zeros(len(labels))  # initialize the final classifier\n",
    "    predictLabel = np.ones(len(labels)) # initialize final predicted labels for each instance\n",
    "    classifiersBuckets = [] # store each weak basic classifier\n",
    "    alpha = np.zeros(iteNum)\n",
    "    for ite in range(iteNum):\n",
    "        bestClassifier, classEst, minError = buildStump(datasets, labels, D)\n",
    "        alpha[ite] = 0.5 * np.log((1 - minError) / minError)  # update classifier linear coefficient alpha\n",
    "        bestClassifier['D'] = D\n",
    "        bestClassifier['alpha'] = alpha[ite]\n",
    "        classifiersBuckets.append(bestClassifier)  # add this weak classifer into buckets\n",
    "        Z = np.sum(D * np.exp(-alpha[ite] * labels * classEst))\n",
    "        D = D * np.exp(-alpha[ite] * labels * classEst) / Z  # update weigth for each instance\n",
    "        classEstimate += alpha[ite] * classEst\n",
    "    classEstimate = np.sign(classEstimate)\n",
    "    finalError = len(predictLabel[classEstimate != labels]) / len(labels)\n",
    "    return classEstimate, finalError, classifiersBuckets\n",
    "\n",
    "\n",
    "def accuracyAda(testSets, testLabels, classifiers):\n",
    "    \"\"\"\n",
    "    input a single unkonwn test datasets instance and \n",
    "    output its final label using the train model classifiers\n",
    "    \"\"\"\n",
    "    predictedLabels = 0\n",
    "    for classify in classifiers:\n",
    "        labels = stumpClassify(testSets,classify['dimension'],classify['threshold'])\n",
    "        predictedLabels += classify['alpha'] * labels\n",
    "    predictedLabels = np.sign(predictedLabels)\n",
    "    accuracy = len(testLabels[predictedLabels == testLabels]) / len(testLabels)\n",
    "    return accuracy"
   ]
  },
  {
   "cell_type": "code",
   "execution_count": 142,
   "metadata": {},
   "outputs": [
    {
     "name": "stdout",
     "output_type": "stream",
     "text": [
      "[ 1.  1. -1. -1.  1.]\n",
      "0.0\n",
      "[{'dimension': 0, 'threshold': 1.3, 'D': array([0.2, 0.2, 0.2, 0.2, 0.2]), 'alpha': 0.6931471805599453}, {'dimension': 1, 'threshold': 1.0, 'D': array([0.5  , 0.125, 0.125, 0.125, 0.125]), 'alpha': 0.9729550745276565}, {'dimension': 0, 'threshold': 0.9, 'D': array([0.28571429, 0.07142857, 0.07142857, 0.07142857, 0.5       ]), 'alpha': 0.8958797346140273}]\n"
     ]
    }
   ],
   "source": [
    "dataMat,classLabels = loadSimpData()\n",
    "numIt = 3\n",
    "\n",
    "classEstimate, minError, classifiersBuckets = adaBoostModel(dataMat, classLabels, numIt)\n",
    "print(classEstimate)\n",
    "print(minError)\n",
    "print(classifiersBuckets)"
   ]
  },
  {
   "cell_type": "code",
   "execution_count": 143,
   "metadata": {},
   "outputs": [
    {
     "data": {
      "text/plain": [
       "1.0"
      ]
     },
     "execution_count": 143,
     "metadata": {},
     "output_type": "execute_result"
    }
   ],
   "source": [
    "accuracy = accuracyAda(np.array([[5, 5], [0, 0]]), np.array([1, -1]), classifiersBuckets)\n",
    "accuracy"
   ]
  },
  {
   "cell_type": "code",
   "execution_count": 156,
   "metadata": {},
   "outputs": [
    {
     "name": "stdout",
     "output_type": "stream",
     "text": [
      "Number of classifier:1, train accuracy:0.6342281879194631, testAccuracy:0.7121212121212122\n",
      "Number of classifier:10, train accuracy:0.6476510067114094, testAccuracy:0.6666666666666666\n",
      "Number of classifier:50, train accuracy:0.6610738255033557, testAccuracy:0.6818181818181818\n",
      "Number of classifier:100, train accuracy:0.6577181208053691, testAccuracy:0.696969696969697\n",
      "Number of classifier:500, train accuracy:0.6577181208053691, testAccuracy:0.696969696969697\n",
      "Number of classifier:1000, train accuracy:0.6577181208053691, testAccuracy:0.696969696969697\n"
     ]
    }
   ],
   "source": [
    "trainSets, trainLabels = loadDatasets('horseColicTraining2.txt')  # 298*21\n",
    "testSets, testLabels = loadDatasets('horseColicTest2.txt')\n",
    "\n",
    "numClassifier = [1, 10, 50, 100, 500, 1000]\n",
    "for numIt in numClassifier:\n",
    "    classEstimate, minError, classifiersBuckets = adaBoostModel(trainSets, trainLabels, numIt)\n",
    "    trainAccuracy = 1 - minError\n",
    "    testAccuracy = accuracyAda(testSets, testLabels, classifiersBuckets)\n",
    "    print(\"Number of classifier:{}, train accuracy:{}, testAccuracy:{}\".format(numIt, trainAccuracy, testAccuracy))\n"
   ]
  },
  {
   "cell_type": "code",
   "execution_count": null,
   "metadata": {},
   "outputs": [],
   "source": []
  }
 ],
 "metadata": {
  "kernelspec": {
   "display_name": "Python 3",
   "language": "python",
   "name": "python3"
  },
  "language_info": {
   "codemirror_mode": {
    "name": "ipython",
    "version": 3
   },
   "file_extension": ".py",
   "mimetype": "text/x-python",
   "name": "python",
   "nbconvert_exporter": "python",
   "pygments_lexer": "ipython3",
   "version": "3.6.7"
  }
 },
 "nbformat": 4,
 "nbformat_minor": 2
}
